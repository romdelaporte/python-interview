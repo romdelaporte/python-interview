el = input("Hey")
print("hi")

