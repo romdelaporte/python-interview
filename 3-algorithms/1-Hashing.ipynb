{
 "cells": [
  {
   "attachments": {},
   "cell_type": "markdown",
   "metadata": {},
   "source": [
    "# Hashing Algorithms\n",
    "\n",
    "### Covered:\n",
    "- MD5 (Message Digest Algorithm 5): \n",
    "    - The MD5 algorithm produces a 128-bit hash value, commonly represented as a 32-character hexadecimal number.\n",
    "- SHA-1 (Secure Hash Algorithm 1): \n",
    "    - The SHA-1 algorithm generates a 160-bit hash value, typically represented as a 40-character hexadecimal number.\n",
    "- SHA-256 (Secure Hash Algorithm 256-bit): \n",
    "    - The SHA-256 algorithm produces a 256-bit hash value, commonly represented as a 64-character hexadecimal number.\n",
    "- CRC32 (Cyclic Redundancy Check): \n",
    "    - The CRC32 algorithm calculates a 32-bit checksum, often used for error detection.\n"
   ]
  },
  {
   "cell_type": "code",
   "execution_count": 3,
   "metadata": {},
   "outputs": [
    {
     "name": "stdout",
     "output_type": "stream",
     "text": [
      "MD5 hash: 6cd3556deb0da54bca060b4c39479839\n",
      "SHA-1 hash: 943a702d06f34599aee1f8da8ef9f7296031d699\n",
      "SHA-256 hash: 315f5bdb76d078c43b8ac0064e4a0164612b1fce77c869345bfc94c75894edd3\n",
      "CRC32 hash:  3957769958\n"
     ]
    }
   ],
   "source": [
    "import hashlib\n",
    "import zlib\n",
    "\n",
    "def md5_hash(data):\n",
    "    md5_hash = hashlib.md5(data.encode()).hexdigest()\n",
    "    return md5_hash\n",
    "\n",
    "def sha1_hash(data):\n",
    "    sha1_hash = hashlib.sha1(data.encode()).hexdigest()\n",
    "    return sha1_hash\n",
    "\n",
    "def sha256_hash(data):\n",
    "    sha256_hash = hashlib.sha256(data.encode()).hexdigest()\n",
    "    return sha256_hash\n",
    "\n",
    "def crc32_hash(data):\n",
    "    crc32_hash = zlib.crc32(data.encode())\n",
    "    return crc32_hash\n",
    "\n",
    "\n",
    "# Usage example\n",
    "data = \"Hello, world!\"\n",
    "md5_result = md5_hash(data)\n",
    "sha1_result = sha1_hash(data)\n",
    "sha256_result = sha256_hash(data)\n",
    "crc32_result = crc32_hash(data)\n",
    "\n",
    "print(\"MD5 hash:\", md5_result)\n",
    "print(\"SHA-1 hash:\", sha1_result)\n",
    "print(\"SHA-256 hash:\", sha256_result)\n",
    "print(\"CRC32 hash: \", crc32_result)"
   ]
  }
 ],
 "metadata": {
  "kernelspec": {
   "display_name": "venv",
   "language": "python",
   "name": "python3"
  },
  "language_info": {
   "codemirror_mode": {
    "name": "ipython",
    "version": 3
   },
   "file_extension": ".py",
   "mimetype": "text/x-python",
   "name": "python",
   "nbconvert_exporter": "python",
   "pygments_lexer": "ipython3",
   "version": "3.11.3"
  },
  "orig_nbformat": 4
 },
 "nbformat": 4,
 "nbformat_minor": 2
}
