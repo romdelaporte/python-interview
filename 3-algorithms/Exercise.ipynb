{
 "cells": [
  {
   "cell_type": "markdown",
   "metadata": {},
   "source": [
    "# Notes on learning Algorithms"
   ]
  },
  {
   "cell_type": "code",
   "execution_count": 5,
   "metadata": {},
   "outputs": [],
   "source": [
    "# range(len(array or string))\n",
    "# enumerate(array) \n",
    "# set()"
   ]
  },
  {
   "cell_type": "code",
   "execution_count": 9,
   "metadata": {},
   "outputs": [
    {
     "name": "stdout",
     "output_type": "stream",
     "text": [
      "0 1\n",
      "1 5\n",
      "2 33\n",
      "3 22\n",
      "4 65\n",
      "5 77\n",
      "0 1\n",
      "1 5\n",
      "2 33\n",
      "3 22\n",
      "4 65\n",
      "5 77\n"
     ]
    }
   ],
   "source": [
    "counter = 0\n",
    "\n",
    "for i in [1, 5, 33, 22, 65, 77]:\n",
    "    print(counter, i)\n",
    "    counter += 1\n",
    "\n",
    "\n",
    "for i in range(len([1, 5, 33, 22, 65, 77])):\n",
    "    print(i, [1, 5, 33, 22, 65, 77][i])"
   ]
  },
  {
   "cell_type": "code",
   "execution_count": 6,
   "metadata": {},
   "outputs": [
    {
     "name": "stdout",
     "output_type": "stream",
     "text": [
      "range(0, 5)\n",
      "range(0, 10)\n",
      "0\n",
      "1\n",
      "2\n",
      "3\n",
      "4\n",
      "5\n",
      "6\n",
      "7\n",
      "8\n",
      "9\n"
     ]
    }
   ],
   "source": [
    "print(range(len(\"hello\")))\n",
    "print(range(len([1,2,3,4,5,6,7,8,9,10])))\n",
    "\n",
    "for i in range(len([1, 5, 22, 33, 44, 55, 66, 77, 88, 99])):\n",
    "    print(i)"
   ]
  },
  {
   "cell_type": "code",
   "execution_count": 4,
   "metadata": {},
   "outputs": [
    {
     "name": "stdout",
     "output_type": "stream",
     "text": [
      "0 a\n",
      "1 b\n",
      "2 c\n"
     ]
    }
   ],
   "source": [
    "values = [\"a\", \"b\", \"c\"]\n",
    "\n",
    "for i in range(len(values)):\n",
    "    print(i, values[i])"
   ]
  },
  {
   "cell_type": "code",
   "execution_count": 6,
   "metadata": {},
   "outputs": [
    {
     "name": "stdout",
     "output_type": "stream",
     "text": [
      "False\n",
      "True\n"
     ]
    }
   ],
   "source": [
    "def isPalindrome(s: str) -> bool:\n",
    "    newStr = ''\n",
    "    for c in s:\n",
    "        if c.isalnum():\n",
    "            newStr += c.lower()\n",
    "    return newStr == newStr[::-1]\n",
    "\n",
    "\n",
    "print(isPalindrome(\"hello\"))\n",
    "print(isPalindrome(\"racecar\"))"
   ]
  },
  {
   "cell_type": "code",
   "execution_count": null,
   "metadata": {
    "vscode": {
     "languageId": "markdown"
    }
   },
   "outputs": [],
   "source": [
    "## Problem Statement\n",
    "\n",
    "Write a function `find_max_occurrence` that takes a list of integers as input and returns the integer that occurs the most frequently in the list. If there are multiple integers with the same highest frequency, return the smallest one.\n",
    "\n",
    "### Function Signature"
   ]
  },
  {
   "cell_type": "code",
   "execution_count": 11,
   "metadata": {},
   "outputs": [
    {
     "name": "stdout",
     "output_type": "stream",
     "text": [
      "2\n"
     ]
    }
   ],
   "source": [
    "lista = [11, 24, 32, 65, 66, 13, 42, 32]\n",
    "\n",
    "def find_max_ocurrence(lista: list) -> int:\n",
    "    max_ocurrence = 0\n",
    "    for i in lista:\n",
    "        if lista.count(i) > max_ocurrence:\n",
    "            max_ocurrence = lista.count(i)\n",
    "    return max_ocurrence\n",
    "\n",
    "print(find_max_ocurrence(lista))"
   ]
  },
  {
   "cell_type": "code",
   "execution_count": 17,
   "metadata": {},
   "outputs": [
    {
     "name": "stdout",
     "output_type": "stream",
     "text": [
      "2\n"
     ]
    },
    {
     "data": {
      "text/plain": [
       "2"
      ]
     },
     "execution_count": 17,
     "metadata": {},
     "output_type": "execute_result"
    }
   ],
   "source": [
    "print(lista.count(32))\n",
    "\"holah\".count(\"h\")"
   ]
  }
 ],
 "metadata": {
  "kernelspec": {
   "display_name": "venv",
   "language": "python",
   "name": "python3"
  },
  "language_info": {
   "codemirror_mode": {
    "name": "ipython",
    "version": 3
   },
   "file_extension": ".py",
   "mimetype": "text/x-python",
   "name": "python",
   "nbconvert_exporter": "python",
   "pygments_lexer": "ipython3",
   "version": "3.13.1"
  }
 },
 "nbformat": 4,
 "nbformat_minor": 2
}
