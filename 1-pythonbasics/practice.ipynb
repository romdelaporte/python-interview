{
 "cells": [
  {
   "attachments": {},
   "cell_type": "markdown",
   "metadata": {},
   "source": [
    " # Practice:\n",
    " ### Index:\n",
    " - Check if number or string\n",
    " - Check whitespace\n",
    " - Reading files (best practice)\n",
    " - Generating infinite sequence"
   ]
  },
  {
   "attachments": {},
   "cell_type": "markdown",
   "metadata": {},
   "source": [
    "### Check if number or string"
   ]
  },
  {
   "cell_type": "code",
   "execution_count": 1,
   "metadata": {},
   "outputs": [
    {
     "name": "stdout",
     "output_type": "stream",
     "text": [
      "Numbers are: [1, 2]\n",
      "Strings are: hi ho \n"
     ]
    }
   ],
   "source": [
    "data = []\n",
    "\n",
    "\n",
    "def check_split(data):\n",
    "    counter = 0\n",
    "    strings = ''\n",
    "    numbers = []\n",
    "    for i in data:\n",
    "        if type(data[counter]) == int or type(data[counter]) == float:\n",
    "            numbers.append(data[counter])\n",
    "        elif type(data[counter]) == str:\n",
    "            strings += data[counter] + ' '\n",
    "        else:\n",
    "            print(\"Something else\")\n",
    "\n",
    "        counter +=1\n",
    "    print(f\"Numbers are: {numbers}\")\n",
    "    print(f\"Strings are: {strings}\")\n",
    "\n",
    "\n",
    "check_split(['hi', 1, 'ho', 2])"
   ]
  },
  {
   "attachments": {},
   "cell_type": "markdown",
   "metadata": {},
   "source": [
    "### Check whitespace"
   ]
  },
  {
   "cell_type": "code",
   "execution_count": null,
   "metadata": {},
   "outputs": [],
   "source": [
    "def check_whitespace(lines):\n",
    "    for lno, line in enumerate(lines):\n",
    "        if '\\r' in line:\n",
    "            yield lno+1, '\\\\r in line'\n",
    "        if '\\t' in line:\n",
    "            yield lno+1, 'OMG TABS!!!'\n",
    "        if line[:-1].rstrip(' \\t') != line[:-1]:\n",
    "            yield lno+1, 'trailing whitespace'"
   ]
  },
  {
   "attachments": {},
   "cell_type": "markdown",
   "metadata": {},
   "source": [
    "### Best practice to read files"
   ]
  },
  {
   "cell_type": "code",
   "execution_count": null,
   "metadata": {},
   "outputs": [],
   "source": [
    "csv_gen = csv_reader(\"some_csv.txt\")\n",
    "row_count = 0\n",
    "\n",
    "for row in csv_gen:\n",
    "    row_count += 1\n",
    "\n",
    "print(f\"Row count is {row_count}\")"
   ]
  },
  {
   "cell_type": "code",
   "execution_count": null,
   "metadata": {},
   "outputs": [],
   "source": [
    "def csv_reader(file_name):\n",
    "    file = open(file_name)\n",
    "    result = file.read().split(\"\\n\")\n",
    "    return result\n",
    "\n",
    "# Will throw error in large files"
   ]
  },
  {
   "cell_type": "code",
   "execution_count": 1,
   "metadata": {},
   "outputs": [],
   "source": [
    "# Best practice with no memory errors\n",
    "def csv_reader(file_name):\n",
    "    for row in open(file_name, \"r\"):\n",
    "        yield row\n",
    "\n",
    "# returns Row count is 64443289"
   ]
  },
  {
   "attachments": {},
   "cell_type": "markdown",
   "metadata": {},
   "source": [
    "This turned the csv reader into a generator function (also called generator comprehension)"
   ]
  },
  {
   "cell_type": "code",
   "execution_count": null,
   "metadata": {},
   "outputs": [],
   "source": [
    "csv_gen = (row for row in open(file_name))\n",
    "\n",
    "# Using yield will return in a generator object\n",
    "# using return will result the first line of the file only"
   ]
  },
  {
   "cell_type": "code",
   "execution_count": null,
   "metadata": {},
   "outputs": [],
   "source": [
    "# Using Pandas \n",
    "pd.read_csv(open_url(url))"
   ]
  },
  {
   "attachments": {},
   "cell_type": "markdown",
   "metadata": {},
   "source": [
    "### Generating an infinite sequence"
   ]
  },
  {
   "attachments": {},
   "cell_type": "markdown",
   "metadata": {},
   "source": []
  },
  {
   "cell_type": "code",
   "execution_count": 6,
   "metadata": {},
   "outputs": [
    {
     "data": {
      "text/plain": [
       "8"
      ]
     },
     "execution_count": 6,
     "metadata": {},
     "output_type": "execute_result"
    }
   ],
   "source": [
    "# Function annotations\n",
    "def testing(nums: list[int]) -> int:\n",
    "    return sum(nums)\n",
    "\n",
    "testing([1, int('3'), 4])"
   ]
  }
 ],
 "metadata": {
  "kernelspec": {
   "display_name": "venv",
   "language": "python",
   "name": "python3"
  },
  "language_info": {
   "codemirror_mode": {
    "name": "ipython",
    "version": 3
   },
   "file_extension": ".py",
   "mimetype": "text/x-python",
   "name": "python",
   "nbconvert_exporter": "python",
   "pygments_lexer": "ipython3",
   "version": "3.11.3"
  },
  "orig_nbformat": 4
 },
 "nbformat": 4,
 "nbformat_minor": 2
}
