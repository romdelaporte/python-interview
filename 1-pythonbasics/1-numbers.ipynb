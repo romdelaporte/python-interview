{
 "cells": [
  {
   "attachments": {},
   "cell_type": "markdown",
   "metadata": {},
   "source": [
    "## Numbers"
   ]
  },
  {
   "attachments": {},
   "cell_type": "markdown",
   "metadata": {},
   "source": [
    "Index:\n",
    "- Types\n",
    "- Converting floating points\n",
    "- Arithmetics\n",
    "- Integer Divisions (Floor division)\n",
    "- Exponents\n",
    "- Modulus operator\n",
    "- Make Python Lie to you (floating point representation error)\n",
    "- Math Functions and number methods: round(), abs(), pow()\n",
    "- Check if integer\n",
    "- check if number or string\n",
    "- Printing numbers\n",
    "- Complex Numbers"
   ]
  },
  {
   "attachments": {},
   "cell_type": "markdown",
   "metadata": {},
   "source": [
    "### Types"
   ]
  },
  {
   "cell_type": "code",
   "execution_count": 12,
   "metadata": {},
   "outputs": [
    {
     "data": {
      "text/plain": [
       "float"
      ]
     },
     "execution_count": 12,
     "metadata": {},
     "output_type": "execute_result"
    }
   ],
   "source": [
    "type(7) # prints int\n",
    "type(\"35\") #prints str\n",
    "type(1.0) # prints float\n"
   ]
  },
  {
   "attachments": {},
   "cell_type": "markdown",
   "metadata": {},
   "source": [
    "### Converting floating points"
   ]
  },
  {
   "cell_type": "code",
   "execution_count": 21,
   "metadata": {},
   "outputs": [
    {
     "data": {
      "text/plain": [
       "float"
      ]
     },
     "execution_count": 21,
     "metadata": {},
     "output_type": "execute_result"
    }
   ],
   "source": [
    "float(\"1.25\") # transforms into 1.25\n",
    "\n",
    "1000000.0\n",
    "1_000_000.0\n",
    "1e6 # transforms into 1 million\n",
    "200000000000000000.0 # Transforms into e+ notation. \"e\" stands for exponential of base 10\n",
    "1e-4 # transforms into 4 decimals\n",
    "2e400 # inf because it reached the limit. The max size of a float is this\n",
    "type(2e400)\n"
   ]
  },
  {
   "attachments": {},
   "cell_type": "markdown",
   "metadata": {},
   "source": [
    "### Arithmetics"
   ]
  },
  {
   "cell_type": "code",
   "execution_count": 29,
   "metadata": {},
   "outputs": [
    {
     "data": {
      "text/plain": [
       "3"
      ]
     },
     "execution_count": 29,
     "metadata": {},
     "output_type": "execute_result"
    }
   ],
   "source": [
    "1.0+2 # You can make operations between floats and integers\n",
    "\n",
    "1 - -3 # The most pep 8 compliant between these 4 but the convention is 1 - (-3)\n",
    "1 --3\n",
    "1- -3\n",
    "1--3\n",
    "\n",
    "int(10 / 3) # Because divisions always returns a float. In this case discards any fractional number"
   ]
  },
  {
   "attachments": {},
   "cell_type": "markdown",
   "metadata": {},
   "source": [
    "### Integer Divisions (Floor division)"
   ]
  },
  {
   "cell_type": "code",
   "execution_count": 31,
   "metadata": {},
   "outputs": [
    {
     "data": {
      "text/plain": [
       "3"
      ]
     },
     "execution_count": 31,
     "metadata": {},
     "output_type": "execute_result"
    }
   ],
   "source": [
    "9 // 3 # first divides the number on the left by the number on the right and then rounds down to an integer."
   ]
  },
  {
   "attachments": {},
   "cell_type": "markdown",
   "metadata": {},
   "source": [
    "### Exponents"
   ]
  },
  {
   "cell_type": "code",
   "execution_count": 35,
   "metadata": {},
   "outputs": [
    {
     "data": {
      "text/plain": [
       "0.25"
      ]
     },
     "execution_count": 35,
     "metadata": {},
     "output_type": "execute_result"
    }
   ],
   "source": [
    "2 ** 16\n",
    "9 ** 0.5 # It's the same as taking the square root\n",
    "2 ** -2"
   ]
  },
  {
   "attachments": {},
   "cell_type": "markdown",
   "metadata": {},
   "source": [
    "### Modulus operator"
   ]
  },
  {
   "cell_type": "code",
   "execution_count": 38,
   "metadata": {},
   "outputs": [
    {
     "data": {
      "text/plain": [
       "-2"
      ]
     },
     "execution_count": 38,
     "metadata": {},
     "output_type": "execute_result"
    }
   ],
   "source": [
    "5 % 3 # Returns the remainder of dividing the left operand by the right operand\n",
    "-5 % -3"
   ]
  },
  {
   "attachments": {},
   "cell_type": "markdown",
   "metadata": {},
   "source": [
    "### Reminder: Python uses arithmetic operators just like in algebra"
   ]
  },
  {
   "attachments": {},
   "cell_type": "markdown",
   "metadata": {},
   "source": [
    "### Make Python Lie to you (floating point representation error)"
   ]
  },
  {
   "cell_type": "code",
   "execution_count": 3,
   "metadata": {},
   "outputs": [
    {
     "data": {
      "text/plain": [
       "0.30000000000000004"
      ]
     },
     "execution_count": 3,
     "metadata": {},
     "output_type": "execute_result"
    }
   ],
   "source": [
    "# 1/10 + 2/20: Computers store in base-2 (binary representation)\n",
    "0.1 + 0.2\n",
    "# When represented in binary, since 1/2 has no finite decimal representation,there is no fraction representation in binary\n",
    "# 0.00011001100110011001100110011..."
   ]
  },
  {
   "cell_type": "code",
   "execution_count": 5,
   "metadata": {},
   "outputs": [
    {
     "data": {
      "text/plain": [
       "0.1"
      ]
     },
     "execution_count": 5,
     "metadata": {},
     "output_type": "execute_result"
    }
   ],
   "source": [
    "# Computers have finite memory, so 0.1 must be stored as an aproximation and not as its true value\n",
    "# 1/10\n",
    "0.1000000000000000055511151231257827021181583404541015625\n",
    "\n",
    "# both 0.1 and 0.10000000000000001 have the same binary approximation. \n",
    "# Python prints out the shortest decimal number that shares the approximation.\n"
   ]
  },
  {
   "attachments": {},
   "cell_type": "markdown",
   "metadata": {},
   "source": [
    "### Math Functions and number methods: round(), abs(), pow()"
   ]
  },
  {
   "cell_type": "code",
   "execution_count": 6,
   "metadata": {},
   "outputs": [
    {
     "data": {
      "text/plain": [
       "3.142"
      ]
     },
     "execution_count": 6,
     "metadata": {},
     "output_type": "execute_result"
    }
   ],
   "source": [
    "round(3.14159, 3)\n",
    "abs(-5.0)\n",
    "pow(2, 3)\n",
    "pow(2, -2)"
   ]
  },
  {
   "cell_type": "code",
   "execution_count": 7,
   "metadata": {},
   "outputs": [
    {
     "data": {
      "text/plain": [
       "0"
      ]
     },
     "execution_count": 7,
     "metadata": {},
     "output_type": "execute_result"
    }
   ],
   "source": [
    "# pow() function accepts an optional third argument that computes the first number raised to the power of the second number, \n",
    "# then takes the modulo with respect to the third number. \n",
    "# In other words, pow(x, y, z) is equivalent to (x ** y) % z.\n",
    "\n",
    "\n",
    "pow(2, 3, 2)"
   ]
  },
  {
   "attachments": {},
   "cell_type": "markdown",
   "metadata": {},
   "source": [
    "### Check if integer"
   ]
  },
  {
   "cell_type": "code",
   "execution_count": 5,
   "metadata": {},
   "outputs": [
    {
     "data": {
      "text/plain": [
       "False"
      ]
     },
     "execution_count": 5,
     "metadata": {},
     "output_type": "execute_result"
    }
   ],
   "source": [
    "num = 2.5\n",
    "num.is_integer()"
   ]
  },
  {
   "attachments": {},
   "cell_type": "markdown",
   "metadata": {},
   "source": [
    "### Printing numbers"
   ]
  },
  {
   "attachments": {},
   "cell_type": "markdown",
   "metadata": {},
   "source": [
    "### Complex Numbers"
   ]
  }
 ],
 "metadata": {
  "kernelspec": {
   "display_name": "venv",
   "language": "python",
   "name": "python3"
  },
  "language_info": {
   "codemirror_mode": {
    "name": "ipython",
    "version": 3
   },
   "file_extension": ".py",
   "mimetype": "text/x-python",
   "name": "python",
   "nbconvert_exporter": "python",
   "pygments_lexer": "ipython3",
   "version": "3.11.1"
  },
  "orig_nbformat": 4,
  "vscode": {
   "interpreter": {
    "hash": "a0f497452c58bb99dd10bbbb19df06373e3fc2f6ff3df78f42fc192fbb7c11bf"
   }
  }
 },
 "nbformat": 4,
 "nbformat_minor": 2
}
