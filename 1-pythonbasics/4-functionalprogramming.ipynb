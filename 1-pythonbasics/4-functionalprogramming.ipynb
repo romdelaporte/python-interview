{
 "cells": [
  {
   "attachments": {},
   "cell_type": "markdown",
   "metadata": {},
   "source": [
    "# Index:\n",
    "- Inmutability: \n",
    "    - Functional programming prefers immutable data, which cannot be changed after creation.\n",
    "Instead of modifying existing data, you create new data structures with the desired changes.\n",
    "- arguments\n",
    "- *args\n",
    "- documented\n",
    "- Function annotations\n",
    "- Higher-Order Functions: \n",
    "    - Functions can accept other functions as arguments or return functions as results. This allows for function composition and abstraction.\n",
    "- Anonnymous Functions: \n",
    "    - Lambda functions are small, anonymous functions that can be defined without a name. They are often used as arguments to higher-order functions.\n",
    "- Map, Filter, Reduce:\n",
    "    - These functions are commonly used in functional programming to manipulate collections of data.\n",
    "        - map: Applies a function to each element of a collection and returns a new collection.\n",
    "        - filter: Filters out elements from a collection based on a given condition.\n",
    "        - reduce: Combines elements of a collection into a single value using a specified function."
   ]
  },
  {
   "cell_type": "code",
   "execution_count": 1,
   "metadata": {},
   "outputs": [],
   "source": [
    "# Immutable list\n",
    "original_list = [1, 2, 3]\n",
    "new_list = original_list + [4, 5]"
   ]
  },
  {
   "attachments": {},
   "cell_type": "markdown",
   "metadata": {},
   "source": [
    "### Arguments"
   ]
  },
  {
   "cell_type": "code",
   "execution_count": 1,
   "metadata": {},
   "outputs": [
    {
     "name": "stdout",
     "output_type": "stream",
     "text": [
      "Hey Ho Let\"s Go\n"
     ]
    }
   ],
   "source": [
    "def myFunc(arg1, arg2, arg3):\n",
    "    print(arg1, arg2, arg3)\n",
    "\n",
    "myFunc('Hey', 'Ho', 'Let\"s Go')"
   ]
  },
  {
   "attachments": {},
   "cell_type": "markdown",
   "metadata": {},
   "source": [
    "### *Args"
   ]
  },
  {
   "cell_type": "code",
   "execution_count": 2,
   "metadata": {},
   "outputs": [
    {
     "name": "stdout",
     "output_type": "stream",
     "text": [
      "Hi\n",
      "I\n",
      "love\n",
      "Python\n"
     ]
    }
   ],
   "source": [
    "def packer(*args):\n",
    "    for val in args:\n",
    "        print(val)\n",
    "\n",
    "packer('Hi', 'I', 'love', 'Python')"
   ]
  },
  {
   "cell_type": "code",
   "execution_count": null,
   "metadata": {},
   "outputs": [],
   "source": [
    "def calculate_total_sum(*arguments):\n",
    "    total_sum = 0\n",
    "    for number in arguments:\n",
    "        total_sum += arguments\n",
    "    print(total_sum)\n",
    "\n",
    "calculate_total_sum(2, 6, 4, 3, 6, 7)"
   ]
  },
  {
   "cell_type": "code",
   "execution_count": null,
   "metadata": {},
   "outputs": [],
   "source": [
    "def calculate_total(*args):\n",
    "    total = sum(args)\n",
    "    print(total)\n",
    "\n",
    "calculate_total(5, 6, 8, 3)"
   ]
  },
  {
   "attachments": {},
   "cell_type": "markdown",
   "metadata": {},
   "source": [
    "### Documenting"
   ]
  },
  {
   "cell_type": "code",
   "execution_count": 3,
   "metadata": {},
   "outputs": [],
   "source": [
    "def containsDuplicate(nums: list[int]):\n",
    "    print('Hi')"
   ]
  },
  {
   "attachments": {},
   "cell_type": "markdown",
   "metadata": {},
   "source": [
    "### Function annotations"
   ]
  },
  {
   "cell_type": "code",
   "execution_count": 1,
   "metadata": {},
   "outputs": [
    {
     "name": "stdout",
     "output_type": "stream",
     "text": [
      "[1, 2, 3, 4, 5]\n"
     ]
    }
   ],
   "source": [
    "important_list = [5, 3, 1, 4, 2]\n",
    "# important_list.sort()  # Bad practice, sorts the list in place\n",
    "print(sorted(important_list)) # Sorts a copy of the list"
   ]
  },
  {
   "attachments": {},
   "cell_type": "markdown",
   "metadata": {},
   "source": [
    "### Higher Order Functions"
   ]
  },
  {
   "cell_type": "code",
   "execution_count": 2,
   "metadata": {},
   "outputs": [],
   "source": [
    "def apply_func(func, arg):\n",
    "    return func(arg)\n",
    "\n",
    "def square(x):\n",
    "    return x ** 2\n",
    "\n",
    "result = apply_func(square, 5)  # 25"
   ]
  },
  {
   "attachments": {},
   "cell_type": "markdown",
   "metadata": {},
   "source": [
    "### Anonymous Functions"
   ]
  },
  {
   "cell_type": "code",
   "execution_count": null,
   "metadata": {},
   "outputs": [],
   "source": [
    "square = lambda x: x ** 2\n",
    "result = square(5)  # 25"
   ]
  },
  {
   "attachments": {},
   "cell_type": "markdown",
   "metadata": {},
   "source": [
    "### Map, Filter, Reduce"
   ]
  },
  {
   "cell_type": "code",
   "execution_count": 3,
   "metadata": {},
   "outputs": [],
   "source": [
    "# Map\n",
    "numbers = [1, 2, 3, 4, 5]\n",
    "squared_numbers = list(map(lambda x: x ** 2, numbers))  # [1, 4, 9, 16, 25]\n",
    "\n",
    "# Filter\n",
    "even_numbers = list(filter(lambda x: x % 2 == 0, numbers))  # [2, 4]\n",
    "\n",
    "# Reduce (requires importing the `functools` module)\n",
    "from functools import reduce\n",
    "sum_of_numbers = reduce(lambda x, y: x + y, numbers)  # 15"
   ]
  },
  {
   "cell_type": "code",
   "execution_count": null,
   "metadata": {},
   "outputs": [],
   "source": []
  }
 ],
 "metadata": {
  "kernelspec": {
   "display_name": "venv",
   "language": "python",
   "name": "python3"
  },
  "language_info": {
   "codemirror_mode": {
    "name": "ipython",
    "version": 3
   },
   "file_extension": ".py",
   "mimetype": "text/x-python",
   "name": "python",
   "nbconvert_exporter": "python",
   "pygments_lexer": "ipython3",
   "version": "3.11.3"
  },
  "orig_nbformat": 4
 },
 "nbformat": 4,
 "nbformat_minor": 2
}
