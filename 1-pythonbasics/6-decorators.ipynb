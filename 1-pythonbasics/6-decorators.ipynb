{
 "cells": [
  {
   "attachments": {},
   "cell_type": "markdown",
   "metadata": {},
   "source": [
    "# Index:\n",
    "- Introduction\n",
    "- Function Decorators\n",
    "- Class Decorator\n",
    "- Decorator Chaining\n",
    "- Decorators with Arguments"
   ]
  },
  {
   "attachments": {},
   "cell_type": "markdown",
   "metadata": {},
   "source": [
    "### Inntroduction:\n",
    "Python decorators are a way to modify the behavior of functions or classes without changing their source code. Decorators are functions that wrap other functions and modify their behavior by adding functionality or altering their input/output. In Python, decorators are represented by the @ symbol followed by the name of the decorator function. Here's an overview of how to use decorators in Python:"
   ]
  },
  {
   "attachments": {},
   "cell_type": "markdown",
   "metadata": {},
   "source": [
    "### Function Decorators\n",
    "Function decorators are the most common type of decorator in Python.\n",
    "They are functions that take another function as an argument and return a modified version of it.\n",
    "The modified function can then be used in place of the original function."
   ]
  },
  {
   "cell_type": "code",
   "execution_count": 1,
   "metadata": {},
   "outputs": [
    {
     "name": "stdout",
     "output_type": "stream",
     "text": [
      "Before the function is called.\n",
      "Hello!\n",
      "After the function is called.\n"
     ]
    }
   ],
   "source": [
    "def my_decorator(func):\n",
    "    def wrapper():\n",
    "        print(\"Before the function is called.\")\n",
    "        func()\n",
    "        print(\"After the function is called.\")\n",
    "    return wrapper\n",
    "\n",
    "@my_decorator\n",
    "def say_hello():\n",
    "    print(\"Hello!\")\n",
    "\n",
    "say_hello()  # Output: Before the function is called. Hello! After the function is called."
   ]
  },
  {
   "attachments": {},
   "cell_type": "markdown",
   "metadata": {},
   "source": [
    "### Class Decorator\n",
    "Class decorators are similar to function decorators but they work on classes instead of functions.\n",
    "They can be used to modify the behavior of a class or its methods."
   ]
  },
  {
   "cell_type": "code",
   "execution_count": 2,
   "metadata": {},
   "outputs": [
    {
     "name": "stdout",
     "output_type": "stream",
     "text": [
      "Before the method is called.\n",
      "Hello!\n",
      "After the method is called.\n"
     ]
    }
   ],
   "source": [
    "def my_decorator(cls):\n",
    "    class Wrapper:\n",
    "        def __init__(self, *args, **kwargs):\n",
    "            self.wrapped = cls(*args, **kwargs)\n",
    "        def __getattr__(self, name):\n",
    "            return getattr(self.wrapped, name)\n",
    "        def my_method(self):\n",
    "            print(\"Before the method is called.\")\n",
    "            self.wrapped.my_method()\n",
    "            print(\"After the method is called.\")\n",
    "    return Wrapper\n",
    "\n",
    "@my_decorator\n",
    "class MyClass:\n",
    "    def my_method(self):\n",
    "        print(\"Hello!\")\n",
    "\n",
    "obj = MyClass()\n",
    "obj.my_method()  # Output: Before the method is called. Hello! After the method is called."
   ]
  },
  {
   "attachments": {},
   "cell_type": "markdown",
   "metadata": {},
   "source": [
    "### Decorator chaining\n",
    "Multiple decorators can be applied to a function or class by chaining them together.\n",
    "The decorators are applied from the innermost to the outermost decorator."
   ]
  },
  {
   "cell_type": "code",
   "execution_count": 3,
   "metadata": {},
   "outputs": [
    {
     "name": "stdout",
     "output_type": "stream",
     "text": [
      "Decorator 1 before function is called.\n",
      "Decorator 2 before function is called.\n",
      "Hello!\n",
      "Decorator 2 after function is called.\n",
      "Decorator 1 after function is called.\n"
     ]
    }
   ],
   "source": [
    "def my_decorator1(func):\n",
    "    def wrapper():\n",
    "        print(\"Decorator 1 before function is called.\")\n",
    "        func()\n",
    "        print(\"Decorator 1 after function is called.\")\n",
    "    return wrapper\n",
    "\n",
    "def my_decorator2(func):\n",
    "    def wrapper():\n",
    "        print(\"Decorator 2 before function is called.\")\n",
    "        func()\n",
    "        print(\"Decorator 2 after function is called.\")\n",
    "    return wrapper\n",
    "\n",
    "@my_decorator1\n",
    "@my_decorator2\n",
    "def say_hello():\n",
    "    print(\"Hello!\")\n",
    "\n",
    "say_hello()  # Output: Decorator 1 before function is called. Decorator 2 before function is called. Hello! Decorator 2 after function is called. Decorator 1 after function is called."
   ]
  },
  {
   "attachments": {},
   "cell_type": "markdown",
   "metadata": {},
   "source": [
    "### Decorators with Arguments\n",
    "Decorators can accept arguments by defining a wrapper function that takes the arguments and returns the decorator function.\n",
    "The decorator function can then take the function or class being decorated as an argument."
   ]
  },
  {
   "cell_type": "code",
   "execution_count": 4,
   "metadata": {},
   "outputs": [
    {
     "name": "stdout",
     "output_type": "stream",
     "text": [
      "Hello, Alice!\n",
      "Hello, Alice!\n",
      "Hello, Alice!\n"
     ]
    }
   ],
   "source": [
    "def repeat(num_repeats):\n",
    "    def my_decorator(func):\n",
    "        def wrapper(*args, **kwargs):\n",
    "            for i in range(num_repeats):\n",
    "                func(*args, **kwargs)\n",
    "        return wrapper\n",
    "    return my_decorator\n",
    "\n",
    "@repeat(num_repeats=3)\n",
    "def say_hello(name):\n",
    "    print(f\"Hello, {name}!\")\n",
    "\n",
    "say_hello(\"Alice\")  # Output: Hello, Alice! Hello, Alice! Hello, Alice!"
   ]
  },
  {
   "cell_type": "code",
   "execution_count": null,
   "metadata": {},
   "outputs": [],
   "source": []
  }
 ],
 "metadata": {
  "kernelspec": {
   "display_name": "venv",
   "language": "python",
   "name": "python3"
  },
  "language_info": {
   "codemirror_mode": {
    "name": "ipython",
    "version": 3
   },
   "file_extension": ".py",
   "mimetype": "text/x-python",
   "name": "python",
   "nbconvert_exporter": "python",
   "pygments_lexer": "ipython3",
   "version": "3.11.3"
  },
  "orig_nbformat": 4
 },
 "nbformat": 4,
 "nbformat_minor": 2
}
