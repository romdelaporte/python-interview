{
 "cells": [
  {
   "attachments": {},
   "cell_type": "markdown",
   "metadata": {},
   "source": [
    "# Index:\n",
    "- Introduction\n",
    "- Re matching\n",
    "- Searching Patterns\n",
    "- Extracting Patterns\n",
    "- Patterns Modifiers\n",
    "- Character Classes\n",
    "- Quantifiers\n",
    "- Special Sequences\n",
    "- Substitution"
   ]
  },
  {
   "attachments": {},
   "cell_type": "markdown",
   "metadata": {},
   "source": [
    "### Introduction\n",
    "Regular expressions (regex) in Python are a powerful tool for pattern matching and manipulating text. The re module in Python provides functions and methods for working with regular expressions. Here's an overview of how to use regular expressions in Python:"
   ]
  },
  {
   "attachments": {},
   "cell_type": "markdown",
   "metadata": {},
   "source": [
    "### Re matching"
   ]
  },
  {
   "cell_type": "code",
   "execution_count": null,
   "metadata": {},
   "outputs": [],
   "source": [
    "import re\n",
    "\n",
    "\n",
    "pattern = r\"hello\"\n",
    "text = \"hello world\"\n",
    "match = re.match(pattern, text)\n",
    "if match:\n",
    "    print(\"Pattern matched!\")\n"
   ]
  },
  {
   "attachments": {},
   "cell_type": "markdown",
   "metadata": {},
   "source": [
    "### Searching Patterrns"
   ]
  },
  {
   "cell_type": "code",
   "execution_count": 2,
   "metadata": {},
   "outputs": [
    {
     "name": "stdout",
     "output_type": "stream",
     "text": [
      "Pattern found!\n"
     ]
    }
   ],
   "source": [
    "import re\n",
    "\n",
    "pattern = r\"world\"\n",
    "text = \"hello world\"\n",
    "match = re.search(pattern, text)\n",
    "if match:\n",
    "    print(\"Pattern found!\")"
   ]
  },
  {
   "attachments": {},
   "cell_type": "markdown",
   "metadata": {},
   "source": [
    "### Extracting Patterns"
   ]
  },
  {
   "cell_type": "code",
   "execution_count": 3,
   "metadata": {},
   "outputs": [
    {
     "name": "stdout",
     "output_type": "stream",
     "text": [
      "hello\n"
     ]
    }
   ],
   "source": [
    "import re\n",
    "\n",
    "pattern = r\"hello\"\n",
    "text = \"hello world\"\n",
    "match = re.search(pattern, text)\n",
    "if match:\n",
    "    print(match.group())  # Output: \"hello\"\n"
   ]
  },
  {
   "attachments": {},
   "cell_type": "markdown",
   "metadata": {},
   "source": [
    "### Patterns Modifiers\n",
    "Regular expressions support modifiers to change the behavior of patterns.\n",
    "Common modifiers include:\n",
    "    - re.IGNORECASE or re.I: Ignore case sensitivity.\n",
    "    - re.MULTILINE or re.M: Treat the string as multiple lines."
   ]
  },
  {
   "cell_type": "code",
   "execution_count": null,
   "metadata": {},
   "outputs": [],
   "source": [
    "import re\n",
    "\n",
    "pattern = r\"hello\"\n",
    "text = \"HELLO world\"\n",
    "match = re.search(pattern, text, re.IGNORECASE)\n",
    "if match:\n",
    "    print(\"Pattern found!\")"
   ]
  },
  {
   "attachments": {},
   "cell_type": "markdown",
   "metadata": {},
   "source": [
    "### Character classes\n",
    "Character classes allow matching specific characters or ranges of characters.\n",
    "Common character classes include:\n",
    "\n",
    "- [abc]: Match any of the characters 'a', 'b', or 'c'.\n",
    "- [0-9]: Match any digit from 0 to 9.\n",
    "- [^a-z]: Match any character except lowercase letters."
   ]
  },
  {
   "cell_type": "code",
   "execution_count": 4,
   "metadata": {},
   "outputs": [
    {
     "name": "stdout",
     "output_type": "stream",
     "text": [
      "Vowel found!\n"
     ]
    }
   ],
   "source": [
    "pattern = r\"[aeiou]\"\n",
    "text = \"hello world\"\n",
    "match = re.search(pattern, text)\n",
    "if match:\n",
    "    print(\"Vowel found!\")"
   ]
  },
  {
   "attachments": {},
   "cell_type": "markdown",
   "metadata": {},
   "source": [
    "### Quantifiers\n",
    "Quantifiers specify the number of occurrences to match.\n",
    "Common quantifiers include:\n",
    "\n",
    "- *: Match zero or more occurrences.\n",
    "- +: Match one or more occurrences.\n",
    "- ?: Match zero or one occurrence.\n",
    "- {n}: Match exactly n occurrences.\n",
    "- {n, m}: Match between n and m occurrences."
   ]
  },
  {
   "cell_type": "code",
   "execution_count": 5,
   "metadata": {},
   "outputs": [
    {
     "name": "stdout",
     "output_type": "stream",
     "text": [
      "Pattern matched!\n"
     ]
    }
   ],
   "source": [
    "import re\n",
    "\n",
    "\n",
    "pattern = r\"lo+\"\n",
    "text = \"hello\"\n",
    "match = re.search(pattern, text)\n",
    "if match:\n",
    "    print(\"Pattern matched!\")\n"
   ]
  },
  {
   "attachments": {},
   "cell_type": "markdown",
   "metadata": {},
   "source": [
    "### Special Sequences\n",
    "Special sequences provide shorthand for matching common patterns.\n",
    "Common special sequences include:\n",
    "\n",
    "- \\d: Match any digit.\n",
    "- \\w: Match any alphanumeric character.\n",
    "- \\s: Match any whitespace character."
   ]
  },
  {
   "cell_type": "code",
   "execution_count": 6,
   "metadata": {},
   "outputs": [
    {
     "name": "stdout",
     "output_type": "stream",
     "text": [
      "Pattern matched!\n"
     ]
    }
   ],
   "source": [
    "import re\n",
    "\n",
    "pattern = r\"\\d+\\s\\w+\"\n",
    "text = \"Age: 25 Name: Alice\"\n",
    "match = re.search(pattern, text)\n",
    "if match:\n",
    "    print(\"Pattern matched!\")\n"
   ]
  },
  {
   "attachments": {},
   "cell_type": "markdown",
   "metadata": {},
   "source": [
    "### Substitution\n",
    "The re.sub() function replaces occurrences of a pattern with a specified string."
   ]
  },
  {
   "cell_type": "markdown",
   "metadata": {},
   "source": []
  }
 ],
 "metadata": {
  "kernelspec": {
   "display_name": "venv",
   "language": "python",
   "name": "python3"
  },
  "language_info": {
   "codemirror_mode": {
    "name": "ipython",
    "version": 3
   },
   "file_extension": ".py",
   "mimetype": "text/x-python",
   "name": "python",
   "nbconvert_exporter": "python",
   "pygments_lexer": "ipython3",
   "version": "3.11.3"
  },
  "orig_nbformat": 4
 },
 "nbformat": 4,
 "nbformat_minor": 2
}
