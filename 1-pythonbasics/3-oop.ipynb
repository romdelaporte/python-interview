{
 "cells": [
  {
   "attachments": {},
   "cell_type": "markdown",
   "metadata": {},
   "source": [
    "# Index:\n",
    "- __init__\n",
    "- Magic Methods"
   ]
  },
  {
   "cell_type": "code",
   "execution_count": null,
   "metadata": {},
   "outputs": [],
   "source": [
    "class NumString:\n",
    "    def __init__(self, value):\n",
    "        self.value = str(value)\n",
    "    \n",
    "    def __str__(self):\n",
    "        return f\"{self.__class__.__name__}: {self.value}\"\n",
    "    \n",
    "    def __int__(self):\n",
    "        return int(self.value)\n",
    "    \n",
    "    def __float__(self):\n",
    "        return float(self.value)\n",
    "    \n",
    "    def __add__(self, other):\n",
    "        #return self.value + str(other)\n",
    "        if '.' in self.value:\n",
    "            return float(self.value) + other\n",
    "        return int(self) + other\n",
    "    \n",
    "    def __radd__(self, other):\n",
    "        return self + other\n",
    "    \n",
    "    def __iadd__(self, other):\n",
    "        self.value = self + other\n",
    "        return self.value\n",
    "\n",
    "    def __mul__(self, other):\n",
    "        if '.' in self.value:\n",
    "            return float(self) * other\n",
    "        return int(self) * other\n",
    "    \n",
    "    def __rmul__(self, other):\n",
    "        return int(self) * other\n",
    "    \n",
    "    def __imul__(self, other):\n",
    "        self.value = self * other\n",
    "        return self.value\n",
    " \n"
   ]
  }
 ],
 "metadata": {
  "language_info": {
   "name": "python"
  },
  "orig_nbformat": 4
 },
 "nbformat": 4,
 "nbformat_minor": 2
}
